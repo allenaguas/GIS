{
 "cells": [
  {
   "cell_type": "markdown",
   "metadata": {},
   "source": [
    "# Map Sales "
   ]
  },
  {
   "cell_type": "markdown",
   "metadata": {},
   "source": [
    "Objective of this script is to auotmate map sales operation. The process will filter out of territory grids and print the maps series when the script runs sucessfully."
   ]
  },
  {
   "cell_type": "markdown",
   "metadata": {},
   "source": [
    "# Ignore all 'Non Territory' areas and Creates New Layer"
   ]
  },
  {
   "cell_type": "markdown",
   "metadata": {},
   "source": [
    "Make sure 'New_Layer_selection' has been generated prior to running."
   ]
  },
  {
   "cell_type": "code",
   "execution_count": null,
   "metadata": {},
   "outputs": [],
   "source": [
    "#Selects area without out of territory.\n",
    "arcpy.management.SelectLayerByAttribute(\"New_Layer_selection\", \"NEW_SELECTION\", \"DISTRICT = 'Non Territory'\", \"INVERT\")"
   ]
  },
  {
   "cell_type": "code",
   "execution_count": null,
   "metadata": {},
   "outputs": [],
   "source": []
  },
  {
   "cell_type": "code",
   "execution_count": null,
   "metadata": {},
   "outputs": [],
   "source": [
    "#Copy selected features onto new layer\n",
    "arcpy.management.CopyFeatures(\"New_Layer_selection\", r\"C:\\Saved_Folder\\selection_Removed_Out_of_Territory\", '', None, None, None)\n"
   ]
  },
  {
   "cell_type": "markdown",
   "metadata": {},
   "source": [
    "# Print Map(s)"
   ]
  },
  {
   "cell_type": "code",
   "execution_count": null,
   "metadata": {},
   "outputs": [],
   "source": [
    "import arcpy\n",
    "\n",
    "datasource = r'C:\\Saved_Folder\\ArcGIS_Data.aprx'\n",
    "\n",
    "aprx = arcpy.mp.ArcGISProject(datasource)\n",
    "\n",
    "l = aprx.listLayouts()[0]\n",
    "\n",
    "if l.mapSeries.enabled is True:\n",
    "    print (\"Printing map series for layout: {}\".format(l.name))\n",
    "    ms = l.mapSeries\n",
    "    ms.exportToPDF(r'C:\\Saved_Folder\\ArcGIS.pdf',\"ALL\",\n",
    "                   \"\",\n",
    "                   \"PDF_SINGLE_FILE\",\n",
    "                   150,\n",
    "                   \"FASTEST\",\n",
    "                   True,\n",
    "                   \"ADAPTIVE\",\n",
    "                   True,\n",
    "                   \"LAYERS_ONLY\",\n",
    "                   True,\n",
    "                   80,\n",
    "                   True,\n",
    "                   False)\n",
    "    print('refresh your ArcGIS.pdf file... Waiting is fun!')"
   ]
  },
  {
   "cell_type": "code",
   "execution_count": null,
   "metadata": {},
   "outputs": [],
   "source": []
  }
 ],
 "metadata": {
  "kernelspec": {
   "display_name": "ArcGISPro",
   "language": "Python",
   "name": "python3"
  },
  "language_info": {
   "file_extension": ".py",
   "name": "python",
   "version": "3"
  }
 },
 "nbformat": 4,
 "nbformat_minor": 2
}
