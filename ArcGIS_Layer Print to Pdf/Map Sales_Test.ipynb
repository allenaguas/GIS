{
 "cells": [
  {
   "cell_type": "markdown",
   "metadata": {},
   "source": [
    "# Map Sales "
   ]
  },
  {
   "cell_type": "markdown",
   "metadata": {},
   "source": [
    "Objective of this script is to auotmate map sales operation. The process will filter out of territory grids and print the maps series when the script runs sucessfully."
   ]
  },
  {
   "cell_type": "markdown",
   "metadata": {},
   "source": [
    "# Ignore all 'Non SCE Territory' Grids and Creates New Layer"
   ]
  },
  {
   "cell_type": "markdown",
   "metadata": {},
   "source": [
    "Make sure 'TCG4232_USNG_GRIDS selection' has been generated prior to running."
   ]
  },
  {
   "cell_type": "code",
   "execution_count": null,
   "metadata": {},
   "outputs": [],
   "source": [
    "#Selects grids without district data.\n",
    "arcpy.management.SelectLayerByAttribute(\"TCG4232_USNG_GRIDS selection\", \"NEW_SELECTION\", \"DISTRICT = 'Non SCE Territory'\", \"INVERT\")"
   ]
  },
  {
   "cell_type": "code",
   "execution_count": null,
   "metadata": {},
   "outputs": [],
   "source": []
  },
  {
   "cell_type": "code",
   "execution_count": null,
   "metadata": {},
   "outputs": [],
   "source": [
    "#Copy Features onto new layer with only district data\n",
    "arcpy.management.CopyFeatures(\"TCG4232_USNG_GRIDS selection\", r\"P:\\PROJECTS\\RP_Quality_Control_cGIS\\MapSalesArcProProject\\MapSalesLive1211\\MapSalesLive\\ExportedGrids.gdb\\TCG4232_USNG_GRIDSselection_Removed_OOT\", '', None, None, None)\n"
   ]
  },
  {
   "cell_type": "markdown",
   "metadata": {},
   "source": [
    "# Print Map(s)"
   ]
  },
  {
   "cell_type": "code",
   "execution_count": null,
   "metadata": {},
   "outputs": [],
   "source": [
    "#aprx = arcpy.mp.ArcGISProject(r\"P:\\PROJECTS\\RP_Quality_Control_cGIS\\MapSalesArcProProject\\MapSalesLive1211\\MapSalesLive\\MapSales_Template AA.aprx\")\n",
    "#export_dir = r\"C:\\Users\\aguasaa\\Downloads\"\n",
    "#for lyt in aprx.listLayouts():\n",
    " #   lyt.exportToPDF(export_dir + \"\\\\\" + \"ArcGIS.pdf\", resolution = 150)"
   ]
  },
  {
   "cell_type": "code",
   "execution_count": null,
   "metadata": {},
   "outputs": [],
   "source": [
    "import arcpy\n",
    "\n",
    "datasource = r'P:\\PROJECTS\\RP_Quality_Control_cGIS\\MapSalesArcProProject\\MapSalesLive1211\\MapSalesLive\\MapSales_Template AA.aprx'\n",
    "\n",
    "aprx = arcpy.mp.ArcGISProject(datasource)\n",
    "\n",
    "l = aprx.listLayouts()[0]\n",
    "\n",
    "if l.mapSeries.enabled is True:\n",
    "    print (\"Printing map series for layout: {}\".format(l.name))\n",
    "    ms = l.mapSeries\n",
    "    ms.exportToPDF(r'C:\\Users\\aguasaa\\Downloads\\ArcGIS.pdf',\"ALL\",\n",
    "                   \"\",\n",
    "                   \"PDF_SINGLE_FILE\",\n",
    "                   150,\n",
    "                   \"FASTEST\",\n",
    "                   True,\n",
    "                   \"ADAPTIVE\",\n",
    "                   True,\n",
    "                   \"LAYERS_ONLY\",\n",
    "                   True,\n",
    "                   80,\n",
    "                   True,\n",
    "                   False)\n",
    "    print('refresh your ArcGIS.pdf file... Waiting is fun!')"
   ]
  },
  {
   "cell_type": "code",
   "execution_count": null,
   "metadata": {},
   "outputs": [],
   "source": []
  }
 ],
 "metadata": {
  "kernelspec": {
   "display_name": "ArcGISPro",
   "language": "Python",
   "name": "python3"
  },
  "language_info": {
   "file_extension": ".py",
   "name": "python",
   "version": "3"
  }
 },
 "nbformat": 4,
 "nbformat_minor": 2
}
